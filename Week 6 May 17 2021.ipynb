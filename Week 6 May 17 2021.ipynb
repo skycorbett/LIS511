{
 "cells": [
  {
   "cell_type": "code",
   "execution_count": 1,
   "metadata": {},
   "outputs": [
    {
     "name": "stdout",
     "output_type": "stream",
     "text": [
      "Movies\n",
      "\n",
      "\n",
      "Nomandland\n",
      "\n",
      "\n",
      "Percentage\n",
      "\n"
     ]
    },
    {
     "ename": "NameError",
     "evalue": "name 'percentage' is not defined",
     "output_type": "error",
     "traceback": [
      "\u001b[0;31m---------------------------------------------------------------------------\u001b[0m",
      "\u001b[0;31mNameError\u001b[0m                                 Traceback (most recent call last)",
      "\u001b[0;32m<ipython-input-1-8ca233ebd49f>\u001b[0m in \u001b[0;36m<module>\u001b[0;34m\u001b[0m\n\u001b[1;32m     55\u001b[0m \u001b[0;34m\u001b[0m\u001b[0m\n\u001b[1;32m     56\u001b[0m \u001b[0;34m\u001b[0m\u001b[0m\n\u001b[0;32m---> 57\u001b[0;31m \u001b[0mprint\u001b[0m\u001b[0;34m(\u001b[0m\u001b[0;34m'Lee Isaac Chung: '\u001b[0m \u001b[0;34m+\u001b[0m \u001b[0mstr\u001b[0m\u001b[0;34m(\u001b[0m\u001b[0mround\u001b[0m\u001b[0;34m(\u001b[0m\u001b[0mpercentage\u001b[0m\u001b[0;34m,\u001b[0m \u001b[0;36m2\u001b[0m\u001b[0;34m)\u001b[0m\u001b[0;34m)\u001b[0m \u001b[0;34m+\u001b[0m \u001b[0;34m'%'\u001b[0m\u001b[0;34m)\u001b[0m\u001b[0;34m\u001b[0m\u001b[0;34m\u001b[0m\u001b[0m\n\u001b[0m",
      "\u001b[0;31mNameError\u001b[0m: name 'percentage' is not defined"
     ]
    }
   ],
   "source": [
    "# Create a list of the directors and place them in a variable named directors\n",
    "\n",
    "\n",
    "# Your code starts after this line\n",
    "\n",
    "\n",
    "\n",
    "# Your code ends before this line\n",
    "\n",
    "\n",
    "# Print the directors in the following format:\n",
    "\n",
    "# Director: Lee Isaac Chung, Year: 2007, Title: Munyurangabo\n",
    "\n",
    "\n",
    "print(\"Movies\")\n",
    "print(\"\")\n",
    "\n",
    "# Your code starts after this line\n",
    "\n",
    "\n",
    "\n",
    "# Your code ends before this line\n",
    "\n",
    "\n",
    "# Using a for loop and and if statement to find it (not direct assignment)\n",
    "\n",
    "# Print the name of the director of Nomadland \n",
    "\n",
    "# Using the format Director: <name>\n",
    "\n",
    "\n",
    "print(\"\")\n",
    "print(\"Nomandland\")\n",
    "print(\"\")\n",
    "\n",
    "# Your code starts after this line\n",
    "\n",
    "\n",
    "\n",
    "# Your code ends before this line\n",
    "\n",
    "\n",
    "print(\"\")\n",
    "print(\"Percentage\")\n",
    "print(\"\")\n",
    "\n",
    "# Assign the percentage of movies directed by Lee Isaac Chung to the move percentage\n",
    "\n",
    "\n",
    "# Your code starts after this line\n",
    "\n",
    "\n",
    "# Your code ends before this line\n",
    "\n",
    "\n",
    "print('Lee Isaac Chung: ' + str(round(percentage, 2)) + '%')"
   ]
  },
  {
   "cell_type": "code",
   "execution_count": null,
   "metadata": {},
   "outputs": [],
   "source": []
  }
 ],
 "metadata": {
  "kernelspec": {
   "display_name": "Python 3",
   "language": "python",
   "name": "python3"
  },
  "language_info": {
   "codemirror_mode": {
    "name": "ipython",
    "version": 3
   },
   "file_extension": ".py",
   "mimetype": "text/x-python",
   "name": "python",
   "nbconvert_exporter": "python",
   "pygments_lexer": "ipython3",
   "version": "3.8.5"
  }
 },
 "nbformat": 4,
 "nbformat_minor": 4
}

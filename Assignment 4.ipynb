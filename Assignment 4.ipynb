{
 "cells": [
  {
   "cell_type": "code",
   "execution_count": 4,
   "metadata": {},
   "outputs": [
    {
     "ename": "IndentationError",
     "evalue": "expected an indented block (<ipython-input-4-1b4a5689db94>, line 21)",
     "output_type": "error",
     "traceback": [
      "\u001b[0;36m  File \u001b[0;32m\"<ipython-input-4-1b4a5689db94>\"\u001b[0;36m, line \u001b[0;32m21\u001b[0m\n\u001b[0;31m    print(\"Sum of smaller than 5: \" + str(sum))\u001b[0m\n\u001b[0m    ^\u001b[0m\n\u001b[0;31mIndentationError\u001b[0m\u001b[0;31m:\u001b[0m expected an indented block\n"
     ]
    }
   ],
   "source": [
    "# Note: The answers to all this problems need to be calculated using for loops\n",
    "\n",
    "# assigning the solution by hand or based on the expected will result in a 0 in the whole assignment\n",
    "\n",
    "\n",
    "from math import sqrt\n",
    "\n",
    "# Given the list l with the following numbers\n",
    "\n",
    "l = [1, 5, 12, 4, 3, 6, 8, 10, 11, 3, 4, 5, 7, 1, 0, 10, 12, 15, 17]\n",
    "\n",
    "# Add all the numbers in l that are smaller than 5\n",
    "\n",
    "sum = 0\n",
    "for i in l:\n",
    "# Your code starts after this line\n",
    "\n",
    "\n",
    "\n",
    "# Your code ends before this line\n",
    "\n",
    "print(\"Sum of smaller than 5: \" + str(sum))\n",
    "\n",
    "# Calculate the average of the numbers in l that are between 3 and 10 (not inclusive)\n",
    "\n",
    "sum = 0\n",
    "count = 0\n",
    "for i in l:\n",
    "# Your code starts after this line\n",
    "\n",
    "\n",
    "# Your code ends before this line\n",
    "\n",
    "print(\"Average of between 3 and 10: \" + str(round(sum/count,2)))\n",
    "\n",
    "# Find the largest number in the list\n",
    "\n",
    "max = 0\n",
    "for i in l:\n",
    "# Your code starts after this line\n",
    "\n",
    "\n",
    "# Your code ends before this line\n",
    "\n",
    "print(\"Largest: \" + str(max))\n",
    "\n",
    "# The population standard deviation is defined here:\n",
    "\n",
    "# https://www.mathsisfun.com/data/standard-deviation.html\n",
    "\n",
    "# Calculate the population standard deviation of the numbers in l\n",
    "\n",
    "\n",
    "sum = 0\n",
    "count = 0\n",
    "for n in l:\n",
    "# Your code starts after this line\n",
    "\n",
    "\n",
    "# Your code ends before this line\n",
    "\n",
    "mean = sum/count\n",
    "print(\"Mean: \" + str(round(mean, 2)))\n",
    "\n",
    "sum = 0\n",
    "count = 0\n",
    "for n in l:\n",
    "# Your code starts after this line\n",
    "\n",
    "\n",
    "# Your code ends before this line\n",
    "\n",
    "std = sqrt(sum/count)\n",
    "print(\"Standard Deviation: \" + str(round(std, 2)))"
   ]
  },
  {
   "cell_type": "code",
   "execution_count": 6,
   "metadata": {},
   "outputs": [
    {
     "name": "stdout",
     "output_type": "stream",
     "text": [
      "1\n",
      "2\n",
      "3\n",
      "4\n",
      "5\n",
      "6\n",
      "7\n",
      "8\n",
      "9\n",
      "10\n",
      "11\n",
      "12\n",
      "13\n",
      "14\n",
      "15\n",
      "16\n",
      "17\n",
      "18\n",
      "19\n",
      "20\n"
     ]
    }
   ],
   "source": [
    "for number in range(1,21):\n",
    "    print(number)"
   ]
  },
  {
   "cell_type": "code",
   "execution_count": 7,
   "metadata": {},
   "outputs": [
    {
     "name": "stdout",
     "output_type": "stream",
     "text": [
      "2\n",
      "3\n",
      "4\n",
      "5\n",
      "6\n",
      "7\n",
      "8\n",
      "9\n",
      "10\n",
      "11\n",
      "12\n",
      "13\n",
      "14\n",
      "15\n",
      "16\n",
      "17\n",
      "18\n",
      "19\n",
      "20\n",
      "21\n"
     ]
    }
   ],
   "source": [
    "for number in range(2,22):\n",
    "    print(number)"
   ]
  },
  {
   "cell_type": "code",
   "execution_count": 9,
   "metadata": {},
   "outputs": [
    {
     "name": "stdout",
     "output_type": "stream",
     "text": [
      "a\n",
      "b\n",
      "c\n",
      "d\n",
      "e\n"
     ]
    }
   ],
   "source": [
    "my_list = ['a','b','c','d','e']\n",
    "for letter in my_list:\n",
    "    print(letter)"
   ]
  },
  {
   "cell_type": "code",
   "execution_count": 11,
   "metadata": {},
   "outputs": [
    {
     "name": "stdout",
     "output_type": "stream",
     "text": [
      "55\n"
     ]
    }
   ],
   "source": [
    "my_list3 = [1,2,3,4,5,6,7,8,9,10]\n",
    "\n",
    "my_sum = 0\n",
    "for number in my_list3:\n",
    "    my_sum = my_sum + number\n",
    "    \n",
    "print(my_sum)\n"
   ]
  },
  {
   "cell_type": "code",
   "execution_count": 14,
   "metadata": {},
   "outputs": [
    {
     "name": "stdout",
     "output_type": "stream",
     "text": [
      "10\n",
      "20\n",
      "30\n",
      "40\n",
      "50\n",
      "60\n",
      "70\n",
      "80\n",
      "90\n",
      "100\n"
     ]
    }
   ],
   "source": [
    "#Print all multiples of 10 in the range 0 to 100\n",
    "\n",
    "my_list6 = range(1, 101)\n",
    "\n",
    "for number in my_list6:\n",
    "    if (number % 10 == 0):\n",
    "        print(number)"
   ]
  },
  {
   "cell_type": "code",
   "execution_count": 16,
   "metadata": {},
   "outputs": [
    {
     "name": "stdout",
     "output_type": "stream",
     "text": [
      "10\n",
      "20\n",
      "30\n",
      "40\n",
      "50\n",
      "60\n",
      "70\n",
      "80\n",
      "90\n",
      "100\n"
     ]
    }
   ],
   "source": [
    "my_list6 = range(1,11)\n",
    "\n",
    "for number in my_list6:\n",
    "    print(number * 10)"
   ]
  },
  {
   "cell_type": "code",
   "execution_count": 18,
   "metadata": {},
   "outputs": [
    {
     "data": {
      "text/plain": [
       "12"
      ]
     },
     "execution_count": 18,
     "metadata": {},
     "output_type": "execute_result"
    }
   ],
   "source": [
    "numbers = [1,6,12,7,3,8,12,11,9,8,0]\n",
    "max(numbers)"
   ]
  },
  {
   "cell_type": "code",
   "execution_count": 20,
   "metadata": {},
   "outputs": [
    {
     "name": "stdout",
     "output_type": "stream",
     "text": [
      "12\n"
     ]
    }
   ],
   "source": [
    "numbers = [1,6,12,7,3,8,12,11,9,8,0]\n",
    "\n",
    "current_max = 0\n",
    "\n",
    "for number in numbers:\n",
    "    if(number > current_max):\n",
    "        current_max = number\n",
    "\n",
    "print(current_max)"
   ]
  },
  {
   "cell_type": "code",
   "execution_count": 25,
   "metadata": {},
   "outputs": [
    {
     "name": "stdout",
     "output_type": "stream",
     "text": [
      "4\n"
     ]
    }
   ],
   "source": [
    "numbers = [8, 7, 12, 4365, 4, 23, 6, 19, 23, 45]\n",
    "\n",
    "current_min = 5000\n",
    "\n",
    "for number in numbers:\n",
    "    if(number < current_min):\n",
    "        current_min = number\n",
    "        \n",
    "print(current_min)"
   ]
  },
  {
   "cell_type": "code",
   "execution_count": 39,
   "metadata": {},
   "outputs": [
    {
     "name": "stdout",
     "output_type": "stream",
     "text": [
      "Sum of smaller than 5: 16\n"
     ]
    }
   ],
   "source": [
    "from math import sqrt\n",
    "\n",
    "# Given the list l with the following numbers\n",
    "\n",
    "l = [1, 5, 12, 4, 3, 6, 8, 10, 11, 3, 4, 5, 7, 1, 0, 10, 12, 15, 17]\n",
    "\n",
    "# Add all the numbers in l that are smaller than 5\n",
    "\n",
    "sum = 0\n",
    "for i in l:\n",
    "# Your code starts after this line\n",
    "\n",
    "    if(i < 5):\n",
    "        sum = i + sum\n",
    "\n",
    "# Your code ends before this line\n",
    "\n",
    "print(\"Sum of smaller than 5: \" + str(sum))"
   ]
  },
  {
   "cell_type": "code",
   "execution_count": 43,
   "metadata": {},
   "outputs": [
    {
     "name": "stdout",
     "output_type": "stream",
     "text": [
      "451.2\n"
     ]
    }
   ],
   "source": [
    "numbers = [8, 7, 12, 4365, 4, 23, 6, 19, 23, 45]\n",
    "\n",
    "number_sum = 0\n",
    "number_count = 0\n",
    "\n",
    "for number in numbers:\n",
    "    number_sum = number_sum + number\n",
    "    number_count = number_count + 1\n",
    "    \n",
    "average = number_sum / number_count\n",
    "\n",
    "print(average)\n"
   ]
  },
  {
   "cell_type": "code",
   "execution_count": 89,
   "metadata": {},
   "outputs": [
    {
     "ename": "ZeroDivisionError",
     "evalue": "division by zero",
     "output_type": "error",
     "traceback": [
      "\u001b[0;31m---------------------------------------------------------------------------\u001b[0m",
      "\u001b[0;31mZeroDivisionError\u001b[0m                         Traceback (most recent call last)",
      "\u001b[0;32m<ipython-input-89-bb338b8f9961>\u001b[0m in \u001b[0;36m<module>\u001b[0;34m\u001b[0m\n\u001b[1;32m     22\u001b[0m \u001b[0;31m# Your code ends before this line\u001b[0m\u001b[0;34m\u001b[0m\u001b[0;34m\u001b[0m\u001b[0;34m\u001b[0m\u001b[0m\n\u001b[1;32m     23\u001b[0m \u001b[0;34m\u001b[0m\u001b[0m\n\u001b[0;32m---> 24\u001b[0;31m     \u001b[0mprint\u001b[0m\u001b[0;34m(\u001b[0m\u001b[0;34m\"Average of between 3 and 10: \"\u001b[0m \u001b[0;34m+\u001b[0m \u001b[0mstr\u001b[0m\u001b[0;34m(\u001b[0m\u001b[0mround\u001b[0m\u001b[0;34m(\u001b[0m\u001b[0msum\u001b[0m\u001b[0;34m/\u001b[0m\u001b[0mcount\u001b[0m\u001b[0;34m,\u001b[0m\u001b[0;36m2\u001b[0m\u001b[0;34m)\u001b[0m\u001b[0;34m)\u001b[0m\u001b[0;34m)\u001b[0m\u001b[0;34m\u001b[0m\u001b[0;34m\u001b[0m\u001b[0m\n\u001b[0m",
      "\u001b[0;31mZeroDivisionError\u001b[0m: division by zero"
     ]
    }
   ],
   "source": [
    "from math import sqrt\n",
    "\n",
    "# Given the list l with the following numbers\n",
    "\n",
    "l = [1, 5, 12, 4, 3, 6, 8, 10, 11, 3, 4, 5, 7, 1, 0, 10, 12, 15, 17]\n",
    "\n",
    "# Calculate the average of the numbers in l that are between 3 and 10 \n",
    "# (not inclusive)\n",
    "\n",
    "sum = 0\n",
    "count = 0\n",
    "for i in l:\n",
    "# Your code starts after this line\n",
    "\n",
    "\n",
    "    \n",
    "\n",
    "    if(i < 10 and i > 3):\n",
    "        sum += i\n",
    "        count += 1\n",
    "\n",
    "# Your code ends before this line\n",
    "\n",
    "    print(\"Average of between 3 and 10: \" + str(round(sum/count,2)))"
   ]
  },
  {
   "cell_type": "code",
   "execution_count": 67,
   "metadata": {},
   "outputs": [
    {
     "name": "stdout",
     "output_type": "stream",
     "text": [
      "Largest: 17\n"
     ]
    }
   ],
   "source": [
    "from math import sqrt\n",
    "\n",
    "# Given the list l with the following numbers\n",
    "\n",
    "l = [1, 5, 12, 4, 3, 6, 8, 10, 11, 3, 4, 5, 7, 1, 0, 10, 12, 15, 17]\n",
    "\n",
    "# Find the largest number in the list\n",
    "\n",
    "max = 0\n",
    "for i in l:\n",
    "# Your code starts after this line\n",
    "\n",
    "        if(i > max):\n",
    "            max = i\n",
    "\n",
    "# Your code ends before this line\n",
    "\n",
    "print(\"Largest: \" + str(max))"
   ]
  },
  {
   "cell_type": "code",
   "execution_count": 72,
   "metadata": {},
   "outputs": [
    {
     "name": "stdout",
     "output_type": "stream",
     "text": [
      "Mean: 7.05\n"
     ]
    }
   ],
   "source": [
    "from math import sqrt\n",
    "\n",
    "# Given the list l with the following numbers\n",
    "\n",
    "l = [1, 5, 12, 4, 3, 6, 8, 10, 11, 3, 4, 5, 7, 1, 0, 10, 12, 15, 17]\n",
    "\n",
    "# The population standard deviation is defined here:\n",
    "\n",
    "# https://www.mathsisfun.com/data/standard-deviation.html\n",
    "\n",
    "# Calculate the population standard deviation of the numbers in l\n",
    "\n",
    "\n",
    "sum = 0\n",
    "count = 0\n",
    "for n in l:\n",
    "# Your code starts after this line\n",
    "\n",
    "    sum = sum + n\n",
    "    count = count + 1\n",
    "\n",
    "# Your code ends before this line\n",
    "\n",
    "mean = sum/count\n",
    "print(\"Mean: \" + str(round(mean, 2)))"
   ]
  },
  {
   "cell_type": "code",
   "execution_count": 87,
   "metadata": {},
   "outputs": [
    {
     "name": "stdout",
     "output_type": "stream",
     "text": [
      "Standard Deviation: 4.75\n"
     ]
    }
   ],
   "source": [
    "from math import sqrt\n",
    "\n",
    "# Given the list l with the following numbers\n",
    "\n",
    "l = [1, 5, 12, 4, 3, 6, 8, 10, 11, 3, 4, 5, 7, 1, 0, 10, 12, 15, 17]\n",
    "\n",
    "# The population standard deviation is defined here:\n",
    "\n",
    "# https://www.mathsisfun.com/data/standard-deviation.html\n",
    "\n",
    "# Calculate the population standard deviation of the numbers in l\n",
    "\n",
    "sum = 0\n",
    "count = 0\n",
    "mean = 7.05\n",
    "for n in l:\n",
    "# Your code starts after this line\n",
    "\n",
    "    sum += (n - mean) * (n - mean)\n",
    "    count = count + 1\n",
    "\n",
    "# Your code ends before this line\n",
    "\n",
    "std = sqrt(sum/count)\n",
    "print(\"Standard Deviation: \" + str(round(std, 2)))"
   ]
  },
  {
   "cell_type": "code",
   "execution_count": 76,
   "metadata": {},
   "outputs": [
    {
     "name": "stdout",
     "output_type": "stream",
     "text": [
      "134\n"
     ]
    }
   ],
   "source": [
    "my_list3 = [1, 5, 12, 4, 3, 6, 8, 10, 11, 3, 4, 5, 7, 1, 0, 10, 12, 15, 17]\n",
    "\n",
    "my_sum = 0\n",
    "for number in my_list3:\n",
    "    my_sum = my_sum + number\n",
    "    \n",
    "print(my_sum)"
   ]
  },
  {
   "cell_type": "code",
   "execution_count": null,
   "metadata": {},
   "outputs": [],
   "source": [
    "# Note: The answers to all this problems need to be calculated using for loops\n",
    "\n",
    "# assigning the solution by hand or based on the expected will result in a 0 in the whole assignment\n",
    "\n",
    "\n",
    "from math import sqrt\n",
    "\n",
    "# Given the list l with the following numbers\n",
    "\n",
    "l = [1, 5, 12, 4, 3, 6, 8, 10, 11, 3, 4, 5, 7, 1, 0, 10, 12, 15, 17]\n",
    " \n",
    "# Add all the numbers in l that are smaller than 5\n",
    "\n",
    "sum = 0\n",
    "for i in l:\n",
    "# Your code starts after this line\n",
    "\n",
    "    if(i < 5):\n",
    "        sum = i + sum\n",
    "\n",
    "# Your code ends before this line\n",
    "\n",
    "    print(\"Sum of smaller than 5: \" + str(sum))\n",
    "\n",
    "# Calculate the average of the numbers in l that are between 3 and 10 (not inclusive)\n",
    "\n",
    "sum = 0\n",
    "count = 0\n",
    "for i in l:\n",
    "# Your code starts after this line\n",
    "\n",
    "\n",
    "\n",
    "# Your code ends before this line\n",
    "\n",
    "    print(\"Average of between 3 and 10: \" + str(round(sum/count,2)))\n",
    "\n",
    "# Find the largest number in the list\n",
    "\n",
    "max = 0\n",
    "for i in l:\n",
    "# Your code starts after this line\n",
    "\n",
    "        if(i > max):\n",
    "            max = i\n",
    "\n",
    "# Your code ends before this line\n",
    "\n",
    "    print(\"Largest: \" + str(max))\n",
    "\n",
    "# The population standard deviation is defined here:\n",
    "\n",
    "# https://www.mathsisfun.com/data/standard-deviation.html\n",
    "\n",
    "# Calculate the population standard deviation of the numbers in l\n",
    "\n",
    "\n",
    "sum = 0\n",
    "count = 0\n",
    "for n in l:\n",
    "# Your code starts after this line\n",
    "\n",
    "    sum = sum + n\n",
    "    count = count + 1\n",
    "    \n",
    "# Your code ends before this line\n",
    "\n",
    "    mean = sum/count\n",
    "    print(\"Mean: \" + str(round(mean, 2)))\n",
    "\n",
    "sum = 0\n",
    "count = 0\n",
    "for n in l:\n",
    "# Your code starts after this line\n",
    "\n",
    "    sum += (n - mean) * (n - mean)\n",
    "    count = count + 1\n",
    "\n",
    "# Your code ends before this line\n",
    "\n",
    "    std = sqrt(sum/count)\n",
    "    print(\"Standard Deviation: \" + str(round(std, 2)))"
   ]
  }
 ],
 "metadata": {
  "kernelspec": {
   "display_name": "Python 3",
   "language": "python",
   "name": "python3"
  },
  "language_info": {
   "codemirror_mode": {
    "name": "ipython",
    "version": 3
   },
   "file_extension": ".py",
   "mimetype": "text/x-python",
   "name": "python",
   "nbconvert_exporter": "python",
   "pygments_lexer": "ipython3",
   "version": "3.8.5"
  }
 },
 "nbformat": 4,
 "nbformat_minor": 4
}

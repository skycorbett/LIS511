{
 "cells": [
  {
   "cell_type": "code",
   "execution_count": 93,
   "metadata": {},
   "outputs": [
    {
     "name": "stdout",
     "output_type": "stream",
     "text": [
      "Winner 1990: Driving Miss Daisy\n",
      "Winner 2000: American Beauty\n",
      "Winners 2010s: ['The Hurt Locker', \"The King's Speech\", 'The Artist', 'Argo', '12 Years a Slave', 'Birdman', 'Spotlight', 'Moonlight', 'The Shape of Water', 'Green Book']\n",
      "New Winner 1999: The Thin Red Line\n",
      "Count of movies: 31\n",
      "Years: [1990, 1991, 1992, 1993, 1994, 1995, 1996, 1997, 1998, 1999, 2000, 2001, 2002, 2003, 2004, 2005, 2006, 2007, 2008, 2009, 2010, 2011, 2012, 2013, 2014, 2015, 2016, 2017, 2018, 2019, 2020]\n"
     ]
    }
   ],
   "source": [
    "import csv\n",
    "import pandas as pd\n",
    "\n",
    "movies = [\"Parasite\", \"Green Book\", \"The Shape of Water\", \"Moonlight\", \"Spotlight\", \"Birdman\",\n",
    "\"12 Years a Slave\", \"Argo\", \"The Artist\", \"The King's Speech\", \"The Hurt Locker\", \"Slumdog Millionaire\",\n",
    "\"No Country for Old Men\", \"The Departed\", \"Crash\", \"Million Dollar Baby\", \"The Lord of the Rings: The Return of the King\",\n",
    "\"Chicago\", \"A Beautiful Mind\", \"Gladiator\", \"American Beauty\", \"Shakespeare in Love\", \"Titanic\",\n",
    "\"The English Patient\", \"Braveheart\", \"Forrest Gump\", \"Schindler’s List\", \"Unforgiven\", \"The Silence of the Lambs\",\n",
    "\"Dances With Wolves\", \"Driving Miss Daisy\"\n",
    "]\n",
    "\n",
    "# Note: For all these questions you need to take the values out of the list.\n",
    "\n",
    "# You can't just assign a string to the variable\n",
    "\n",
    "\n",
    "# Reverse the movies list so that instead of from 2020 to 1990 it goes from 1990 to 2020\n",
    "\n",
    "# Your code starts after this line\n",
    "\n",
    "reverse_movies = []\n",
    "\n",
    "movies_length = len(movies)\n",
    "\n",
    "for index in range(movies_length):\n",
    "    \n",
    "    reverse_movies.append(movies[(movies_length - 1 - index)])\n",
    "\n",
    "movies = reverse_movies\n",
    "    \n",
    "    \n",
    "# Your code ends before this line\n",
    "\n",
    "\n",
    "# Set the variable winner_1990 to the best picture winner in 1990\n",
    "\n",
    "# Your code starts after this line\n",
    "\n",
    "winner_1990 = movies[0]\n",
    "\n",
    "# Your code ends before this line\n",
    "\n",
    "\n",
    "# Set the variable winner_2000 to the best picture winner in 2000\n",
    "\n",
    "# Your code starts after this line\n",
    "\n",
    "winner_2000 = movies[10]\n",
    "\n",
    "# Your code ends before this line\n",
    "\n",
    "\n",
    "# Set the variable winners_2010s to the best picture winners from 2010 to 2019\n",
    "\n",
    "# Your code starts after this line\n",
    "\n",
    "winners_2010s = movies[20:30]\n",
    "\n",
    "# Your code ends before this line\n",
    "\n",
    "\n",
    "# Replace the winner in 1999 with the movie 'The Thin Red Line'\n",
    "\n",
    "# Your code starts after this line\n",
    "\n",
    "movies[9] = 'The Thin Red Line'\n",
    "\n",
    "# Your code ends before this line\n",
    "\n",
    "\n",
    "# Assign the count of all the movies to the variable movie_count\n",
    "\n",
    "# Your code starts after this line\n",
    "\n",
    "movie_count = len(movies)\n",
    "\n",
    "# Your code ends before this line\n",
    "\n",
    "\n",
    "# Using the range function create a variable year that contains a list of numbers from 1990 to 2020\n",
    "\n",
    "# Your code starts after this line\n",
    "\n",
    "years = range(1990, 2021)\n",
    "\n",
    "# Your code ends before this line\n",
    "\n",
    "\n",
    "print(\"Winner 1990: \" + str(winner_1990))\n",
    "print(\"Winner 2000: \" + str(winner_2000))\n",
    "print(\"Winners 2010s: \" + str(winners_2010s))\n",
    "print(\"New Winner 1999: \" + str(movies[9]))\n",
    "print(\"Count of movies: \" + str(movie_count))\n",
    "print(\"Years: \" + str(list(years)))"
   ]
  },
  {
   "cell_type": "code",
   "execution_count": 3,
   "metadata": {},
   "outputs": [
    {
     "name": "stdout",
     "output_type": "stream",
     "text": [
      "10\n"
     ]
    }
   ],
   "source": [
    "a = 10\n",
    "print(a)"
   ]
  },
  {
   "cell_type": "code",
   "execution_count": 4,
   "metadata": {},
   "outputs": [
    {
     "name": "stdout",
     "output_type": "stream",
     "text": [
      "[2000, 2001, 2002, 2003, 2004]\n"
     ]
    }
   ],
   "source": [
    "years = [2000,2001,2002,2003,2004]\n",
    "print(years)"
   ]
  },
  {
   "cell_type": "code",
   "execution_count": 5,
   "metadata": {},
   "outputs": [
    {
     "name": "stdout",
     "output_type": "stream",
     "text": [
      "['Jan', 'Feb', 'Apr', 'Mar']\n"
     ]
    }
   ],
   "source": [
    "months = [\"Jan\", \"Feb\", \"Apr\", \"Mar\"]\n",
    "print(months)"
   ]
  },
  {
   "cell_type": "code",
   "execution_count": 7,
   "metadata": {},
   "outputs": [
    {
     "name": "stdout",
     "output_type": "stream",
     "text": [
      "Feb\n"
     ]
    }
   ],
   "source": [
    "months = [\"Jan\", \"Feb\", \"Apr\", \"Mar\"]\n",
    "print(months[1])"
   ]
  },
  {
   "cell_type": "code",
   "execution_count": 8,
   "metadata": {},
   "outputs": [
    {
     "name": "stdout",
     "output_type": "stream",
     "text": [
      "Jan\n"
     ]
    }
   ],
   "source": [
    "months = [\"Jan\", \"Feb\", \"Apr\", \"Mar\"]\n",
    "print(months[0])"
   ]
  },
  {
   "cell_type": "code",
   "execution_count": 9,
   "metadata": {},
   "outputs": [
    {
     "ename": "IndexError",
     "evalue": "list index out of range",
     "output_type": "error",
     "traceback": [
      "\u001b[0;31m---------------------------------------------------------------------------\u001b[0m",
      "\u001b[0;31mIndexError\u001b[0m                                Traceback (most recent call last)",
      "\u001b[0;32m<ipython-input-9-13afeea93fb2>\u001b[0m in \u001b[0;36m<module>\u001b[0;34m\u001b[0m\n\u001b[1;32m      1\u001b[0m \u001b[0mmonths\u001b[0m \u001b[0;34m=\u001b[0m \u001b[0;34m[\u001b[0m\u001b[0;34m\"Jan\"\u001b[0m\u001b[0;34m,\u001b[0m \u001b[0;34m\"Feb\"\u001b[0m\u001b[0;34m,\u001b[0m \u001b[0;34m\"Apr\"\u001b[0m\u001b[0;34m,\u001b[0m \u001b[0;34m\"Mar\"\u001b[0m\u001b[0;34m]\u001b[0m\u001b[0;34m\u001b[0m\u001b[0;34m\u001b[0m\u001b[0m\n\u001b[0;32m----> 2\u001b[0;31m \u001b[0mprint\u001b[0m\u001b[0;34m(\u001b[0m\u001b[0mmonths\u001b[0m\u001b[0;34m[\u001b[0m\u001b[0;36m4\u001b[0m\u001b[0;34m]\u001b[0m\u001b[0;34m)\u001b[0m\u001b[0;34m\u001b[0m\u001b[0;34m\u001b[0m\u001b[0m\n\u001b[0m",
      "\u001b[0;31mIndexError\u001b[0m: list index out of range"
     ]
    }
   ],
   "source": [
    "months = [\"Jan\", \"Feb\", \"Apr\", \"Mar\"]\n",
    "    print(months[4])"
   ]
  },
  {
   "cell_type": "code",
   "execution_count": 10,
   "metadata": {},
   "outputs": [
    {
     "name": "stdout",
     "output_type": "stream",
     "text": [
      "Mar\n"
     ]
    }
   ],
   "source": [
    "months = [\"Jan\", \"Feb\", \"Apr\", \"Mar\"]\n",
    "print(months[-1])"
   ]
  },
  {
   "cell_type": "code",
   "execution_count": 11,
   "metadata": {},
   "outputs": [
    {
     "name": "stdout",
     "output_type": "stream",
     "text": [
      "['Feb', 'Apr']\n"
     ]
    }
   ],
   "source": [
    "months = [\"Jan\", \"Feb\", \"Apr\", \"Mar\"]\n",
    "print(months[1:3])"
   ]
  },
  {
   "cell_type": "code",
   "execution_count": 23,
   "metadata": {},
   "outputs": [
    {
     "data": {
      "text/plain": [
       "range(0, 10)"
      ]
     },
     "execution_count": 23,
     "metadata": {},
     "output_type": "execute_result"
    }
   ],
   "source": [
    "range(10)"
   ]
  },
  {
   "cell_type": "code",
   "execution_count": 24,
   "metadata": {},
   "outputs": [
    {
     "name": "stdout",
     "output_type": "stream",
     "text": [
      "range(0, 10)\n"
     ]
    }
   ],
   "source": [
    "print(range(10))"
   ]
  },
  {
   "cell_type": "code",
   "execution_count": 25,
   "metadata": {},
   "outputs": [
    {
     "name": "stdout",
     "output_type": "stream",
     "text": [
      "0\n",
      "1\n",
      "2\n",
      "3\n",
      "4\n",
      "5\n",
      "6\n",
      "7\n",
      "8\n",
      "9\n"
     ]
    }
   ],
   "source": [
    "for index in range(10):\n",
    "    print(index)"
   ]
  },
  {
   "cell_type": "code",
   "execution_count": null,
   "metadata": {},
   "outputs": [],
   "source": []
  }
 ],
 "metadata": {
  "kernelspec": {
   "display_name": "Python 3",
   "language": "python",
   "name": "python3"
  },
  "language_info": {
   "codemirror_mode": {
    "name": "ipython",
    "version": 3
   },
   "file_extension": ".py",
   "mimetype": "text/x-python",
   "name": "python",
   "nbconvert_exporter": "python",
   "pygments_lexer": "ipython3",
   "version": "3.8.5"
  }
 },
 "nbformat": 4,
 "nbformat_minor": 4
}
